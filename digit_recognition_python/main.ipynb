{
 "cells": [
  {
   "cell_type": "code",
   "execution_count": null,
   "metadata": {},
   "outputs": [],
   "source": [
    "'''\n",
    "model = nn_model.create(numNeurons, activations=[\"relu\", \"sig\"])\n",
    "predictor = model.fit(Xtrain, Ytrain)\n",
    "f1, acc = predictor.eval(Xval, Yval)\n",
    "prediction = predictor.pred(x)\n",
    "'''\n",
    "# define network architecture"
   ]
  },
  {
   "cell_type": "code",
   "execution_count": 1,
   "metadata": {},
   "outputs": [],
   "source": [
    "import numpy as np\n",
    "from scipy.io import loadmat\n",
    "from sklearn.model_selection import train_test_split"
   ]
  },
  {
   "cell_type": "code",
   "execution_count": 2,
   "metadata": {},
   "outputs": [
    {
     "name": "stdout",
     "output_type": "stream",
     "text": [
      "training set:  (3000, 400)   , training labels:  (3000, 10)\n",
      "test set:  (2000, 400)   , test labels:  (2000, 10)\n"
     ]
    }
   ],
   "source": [
    "def to_one_hot(num_classes, arr):\n",
    "    return np.eye(num_classes)[arr.reshape(-1)]\n",
    "\n",
    "raw = loadmat('handDigits.mat')\n",
    "X = raw['X']\n",
    "Y = raw['y']\n",
    "\n",
    "Xtrain, Xtest, Ytrain, Ytest = train_test_split(X, Y, train_size=0.6)\n",
    "del raw, X, Y\n",
    "\n",
    "# 0 is 10 in origional matlabe data -> change back\n",
    "Ytrain = np.where(Ytrain == 10, 0, Ytrain)\n",
    "Ytest = np.where(Ytest == 10, 0, Ytest)\n",
    "\n",
    "Ytrain = to_one_hot(10, Ytrain)\n",
    "Ytest = to_one_hot(10, Ytest)\n",
    "\n",
    "print('training set: ', Xtrain.shape, '  , training labels: ', Ytrain.shape)\n",
    "print('test set: ', Xtest.shape, '  , test labels: ', Ytest.shape)"
   ]
  },
  {
   "cell_type": "code",
   "execution_count": 3,
   "metadata": {},
   "outputs": [],
   "source": [
    "class nn_model:\n",
    "    \n",
    "    weights=None\n",
    "    activations=None\n",
    "    lin_values = {}\n",
    "    act_values = {}\n",
    "    dims=None\n",
    "\n",
    "    def __init__(self, neuronLayers, activations):\n",
    "        self.activations = activations\n",
    "        self.dims = neuronLayers+1\n",
    "        L = len(neuronLayers)-1\n",
    "        weights = {}\n",
    "        for i in range(L):\n",
    "            weightMat = self.initialise_weights(neuronLayers[i], neuronLayers[i+1])\n",
    "            weights[\"W\"+str(i+1)] = weightMat\n",
    "            weights[\"b\"+str(i+1)] = 0\n",
    "            self.weights = weights\n",
    "            \n",
    "    def initialise_weights(self, n_curr, n_next):\n",
    "        mu = 0\n",
    "        sigma = 1\n",
    "        weightMat = np.random.normal(mu, sigma, (n_next,n_curr))*0.01\n",
    "        return weightMat\n",
    "    \n",
    "    def sigmoid(self, Z):\n",
    "        return 1/(1+np.exp(-Z))\n",
    "\n",
    "    def forward_prop(self, X): # weights, activation\n",
    "        self.act_values['A0'] = X.T\n",
    "        L = int(len(self.weights)/2)\n",
    "        A = X.T\n",
    "        for i in range(1,L+1):\n",
    "            W = self.weights['W'+str(i)]\n",
    "            b = self.weights['b'+str(i)]\n",
    "            Z = np.dot(W, A)+b\n",
    "            if self.activations[i-1] == \"relu\":\n",
    "                boolMat = Z > 0\n",
    "                A = Z*boolMat\n",
    "            else:\n",
    "                A = self.sigmoid(Z)\n",
    "            self.lin_values['Z'+str(i)] = Z\n",
    "            self.act_values['A'+str(i)] = A"
   ]
  },
  {
   "cell_type": "code",
   "execution_count": 4,
   "metadata": {},
   "outputs": [
    {
     "name": "stdout",
     "output_type": "stream",
     "text": [
      "['relu', 'sig']\n",
      "[401  21  11]\n",
      "dict_keys(['W1', 'b1', 'W2', 'b2'])\n",
      "(20, 400)\n",
      "()\n",
      "(10, 20)\n",
      "()\n"
     ]
    }
   ],
   "source": [
    "neurons = np.array([400, 20, 10])\n",
    "model = nn_model(neurons, [\"relu\", \"sig\"])\n",
    "\n",
    "print(model.activations)\n",
    "print(model.dims)\n",
    "print(model.weights.keys())\n",
    "for key in model.weights:\n",
    "    temp = np.asarray(model.weights[key])\n",
    "    print(temp.shape)"
   ]
  },
  {
   "cell_type": "code",
   "execution_count": 5,
   "metadata": {},
   "outputs": [
    {
     "name": "stdout",
     "output_type": "stream",
     "text": [
      "dict_keys(['Z1', 'Z2'])\n",
      "dict_keys(['A0', 'A1', 'A2'])\n",
      "[[ True  True  True ...  True  True  True]\n",
      " [ True  True  True ...  True  True  True]\n",
      " [ True  True  True ...  True  True  True]\n",
      " ...\n",
      " [ True  True  True ...  True  True  True]\n",
      " [ True  True  True ...  True  True  True]\n",
      " [ True  True  True ...  True  True  True]]\n",
      "(400, 3000)\n",
      "(20, 3000)\n",
      "(10, 3000)\n"
     ]
    }
   ],
   "source": [
    "model.forward_prop(Xtrain)\n",
    "\n",
    "print(model.lin_values.keys())\n",
    "print(model.act_values.keys())\n",
    "print(Xtrain.T == model.act_values['A0'])\n",
    "for key in model.act_values:\n",
    "    print(model.act_values[key].shape)"
   ]
  },
  {
   "cell_type": "code",
   "execution_count": null,
   "metadata": {},
   "outputs": [],
   "source": []
  },
  {
   "cell_type": "code",
   "execution_count": null,
   "metadata": {},
   "outputs": [],
   "source": [
    "weights = model.weights\n",
    "print(model.weights.keys())"
   ]
  },
  {
   "cell_type": "code",
   "execution_count": null,
   "metadata": {},
   "outputs": [],
   "source": [
    "# old\n",
    "def sigmoid(Z):\n",
    "    return 1/(1+np.exp(-Z))\n",
    "\n",
    "def forward_prop(X, weights, activation):\n",
    "    lin_values = {}\n",
    "    act_values = {}\n",
    "    act_values['A0'] = X.T\n",
    "    L = int(len(weights)/2)\n",
    "    A = X.T\n",
    "    for i in range(1,L+1):\n",
    "        W = weights['W'+str(i)]\n",
    "        b = weights['b'+str(i)]\n",
    "        Z = np.dot(W, A)+b\n",
    "        if activation[i-1] == \"relu\":\n",
    "            boolMat = Z > 0\n",
    "            A = Z*boolMat\n",
    "        else:\n",
    "            A = sigmoid(Z)\n",
    "        lin_values['Z'+str(i)] = Z\n",
    "        act_values['A'+str(i)] = A\n",
    "    return lin_values, act_values\n",
    "    \n",
    "def cost(Yhat, Y):\n",
    "    m = Yhat.shape[1]\n",
    "    Y = Y.T\n",
    "    J = -(1/m)*np.sum(Y*np.log(Yhat)+(1-Y)*np.log(1-Yhat))\n",
    "    return J\n",
    "\n",
    "def back_prop(weights, lin_values, act_values, activations, Y):\n",
    "    Y = Y.T\n",
    "    m = Y.shape[1]\n",
    "    L = len(activations)\n",
    "    \n",
    "    AL = act_values['A'+str(L)]\n",
    "    dAL = - (np.divide(Y, AL) - np.divide(1 - Y, 1 - AL))\n",
    "\n",
    "    dA = dAL\n",
    "    grads = {}\n",
    "    for l in reversed(range(1, L+1)):\n",
    "        Z = lin_values['Z'+str(l)]\n",
    "        dZ = dA*sigmoid(Z)*(1-sigmoid(Z))\n",
    "        \n",
    "        dW = (1/m)*np.dot(dZ, act_values['A'+str(l-1)].T)\n",
    "        grads['dW'+str(l)] = dW\n",
    "\n",
    "        db = (1/m)*np.sum(dZ, axis=1, keepdims=True)\n",
    "        grads['db'+str(l)] = db\n",
    "        \n",
    "        W = weights['W'+str(l)]\n",
    "        dA = np.dot(W.T, dZ)\n",
    "    return grads\n",
    "\n",
    "def update_weights(weights, grads, learning_rate):\n",
    "#     print(weights.keys())\n",
    "#     print(grads.keys())\n",
    "    for key in weights:\n",
    "        weights[key] = weights[key] - learning_rate*grads['d'+key]\n",
    "    return weights\n",
    "\n",
    "def fit(Xtrain, Ytrain, weights, activations):\n",
    "    L = int(len(weights)/2)\n",
    "    lin_values, act_values = forward_prop(Xtrain, weights, activations)\n",
    "    \n",
    "    AL = act_values['A'+str(L)]\n",
    "    J = cost(AL, Ytrain)\n",
    "    \n",
    "    grads = back_prop(weights, lin_values, act_values, activations, Ytrain)\n",
    "    opt_weights = update_weights(weights, grads, 0.001)\n",
    "\n",
    "    return opt_weights\n",
    "\n",
    "act_values = fit(Xtrain, Ytrain, weights, [\"relu\", \"sig\"])\n",
    "# print(act_values['A1'].shape)\n",
    "# print(act_values['A2'].shape)\n",
    "\n",
    "# ** fix yhat ytrain shapes -> compute cost -> back propergation"
   ]
  }
 ],
 "metadata": {
  "kernelspec": {
   "display_name": "Python 3",
   "language": "python",
   "name": "python3"
  },
  "language_info": {
   "codemirror_mode": {
    "name": "ipython",
    "version": 3
   },
   "file_extension": ".py",
   "mimetype": "text/x-python",
   "name": "python",
   "nbconvert_exporter": "python",
   "pygments_lexer": "ipython3",
   "version": "3.6.9"
  }
 },
 "nbformat": 4,
 "nbformat_minor": 4
}
