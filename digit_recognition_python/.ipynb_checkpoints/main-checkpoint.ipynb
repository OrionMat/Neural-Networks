{
 "cells": [
  {
   "cell_type": "code",
   "execution_count": 30,
   "metadata": {},
   "outputs": [],
   "source": [
    "import numpy as np\n",
    "from scipy.io import loadmat\n",
    "from sklearn.model_selection import train_test_split"
   ]
  },
  {
   "cell_type": "code",
   "execution_count": 31,
   "metadata": {},
   "outputs": [
    {
     "name": "stdout",
     "output_type": "stream",
     "text": [
      "training set:  (3000, 400)   , training labels:  (3000, 1)\n",
      "test set:  (2000, 400)   , test labels:  (2000, 1)\n"
     ]
    }
   ],
   "source": [
    "raw = loadmat('handDigits.mat')\n",
    "X = raw['X']\n",
    "Y = raw['y']\n",
    "\n",
    "Xtrain, Xtest, Ytrain, Ytest = train_test_split(X, Y, train_size=0.6)\n",
    "del raw, X, Y\n",
    "\n",
    "print('training set: ', Xtrain.shape, '  , training labels: ', Ytrain.shape)\n",
    "print('test set: ', Xtest.shape, '  , test labels: ', Ytest.shape)"
   ]
  },
  {
   "cell_type": "code",
   "execution_count": null,
   "metadata": {},
   "outputs": [],
   "source": [
    "'''\n",
    "model = nn_model.create(numNeurons, activations=[\"relu\", \"sig\"])\n",
    "predictor = model.fit(Xtrain, Ytrain)\n",
    "f1, acc = predictor.eval(Xval, Yval)\n",
    "prediction = predictor.pred(x)\n",
    "'''\n",
    "# define network architecture"
   ]
  },
  {
   "cell_type": "code",
   "execution_count": 32,
   "metadata": {},
   "outputs": [],
   "source": [
    "class nn_model:\n",
    "    \n",
    "    weights=None\n",
    "    activations=None\n",
    "    dims=None\n",
    "\n",
    "    def __init__(self, neuronLayers, activations):\n",
    "        self.activations = activations\n",
    "        self.dims = neuronLayers+1\n",
    "        L = len(neuronLayers)-1\n",
    "        weights = {}\n",
    "        for i in range(L):\n",
    "            weightMat = self.initialise_weights(neuronLayers[i], neuronLayers[i+1])\n",
    "            weights[\"W\"+str(i+1)] = weightMat\n",
    "            weights[\"b\"+str(i+1)] = 0\n",
    "            self.weights = weights\n",
    "            \n",
    "    def initialise_weights(self, n_curr, n_next):\n",
    "        mu = 0\n",
    "        sigma = 1\n",
    "        weightMat = np.random.normal(mu, sigma, (n_next,n_curr))*0.01\n",
    "        return weightMat"
   ]
  },
  {
   "cell_type": "code",
   "execution_count": 66,
   "metadata": {},
   "outputs": [
    {
     "name": "stdout",
     "output_type": "stream",
     "text": [
      "cost:\n",
      "(3000, 1)\n",
      "(1, 3000)\n"
     ]
    }
   ],
   "source": [
    "def forward_prop(X, weights, activation):\n",
    "    act_values = {}\n",
    "    L = int(len(weights)/2)\n",
    "    A = X.T\n",
    "    for i in range(1,L+1):\n",
    "        W = weights['W'+str(i)]\n",
    "        b = weights['b'+str(i)]\n",
    "        Z = np.dot(W, A)+b\n",
    "        if activation[i-1] == \"relu\":\n",
    "            boolMat = Z > 0\n",
    "            A = Z*boolMat\n",
    "        else: # sigmoid\n",
    "            A = 1/(1+np.exp(-Z))\n",
    "        act_values['A'+str(i)] = A\n",
    "    return act_values\n",
    "    \n",
    "def cost(Yhat, Ytrain):\n",
    "    print(\"cost:\")\n",
    "    print(Ytrain.shape)\n",
    "    print(Yhat.shape)\n",
    "    return 0\n",
    "\n",
    "def fit(Xtrain, Ytrain, weights, activations):\n",
    "    L = int(len(weights)/2)\n",
    "    act_values = forward_prop(Xtrain, weights, activations)\n",
    "    j = cost(act_values['A'+str(L)], Ytrain)\n",
    "    return act_values\n",
    "\n",
    "act_values = fit(Xtrain, Ytrain, weights, [\"relu\", \"sig\"])\n",
    "# print(act_values['A1'].shape)\n",
    "# print(act_values['A2'].shape)\n",
    "\n",
    "# ** fix yhat ytrain shapes -> compute cost -> back propergation"
   ]
  },
  {
   "cell_type": "code",
   "execution_count": 41,
   "metadata": {},
   "outputs": [
    {
     "name": "stdout",
     "output_type": "stream",
     "text": [
      "dict_keys(['W1', 'b1', 'W2', 'b2'])\n"
     ]
    }
   ],
   "source": [
    "neurons = np.array([400, 20, 1])\n",
    "model = nn_model(neurons, [\"relu\", \"sig\"])\n",
    "\n",
    "weights = model.weights\n",
    "print(model.weights.keys())\n",
    "\n"
   ]
  },
  {
   "cell_type": "code",
   "execution_count": 17,
   "metadata": {},
   "outputs": [
    {
     "data": {
      "text/plain": [
       "(5000, 400)"
      ]
     },
     "execution_count": 17,
     "metadata": {},
     "output_type": "execute_result"
    }
   ],
   "source": []
  },
  {
   "cell_type": "code",
   "execution_count": null,
   "metadata": {},
   "outputs": [],
   "source": []
  }
 ],
 "metadata": {
  "kernelspec": {
   "display_name": "Python 3",
   "language": "python",
   "name": "python3"
  },
  "language_info": {
   "codemirror_mode": {
    "name": "ipython",
    "version": 3
   },
   "file_extension": ".py",
   "mimetype": "text/x-python",
   "name": "python",
   "nbconvert_exporter": "python",
   "pygments_lexer": "ipython3",
   "version": "3.6.9"
  }
 },
 "nbformat": 4,
 "nbformat_minor": 4
}
